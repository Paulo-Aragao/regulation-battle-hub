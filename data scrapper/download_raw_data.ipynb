{
 "cells": [
  {
   "cell_type": "code",
   "execution_count": null,
   "id": "e27afa6c",
   "metadata": {},
   "outputs": [],
   "source": [
    "import requests\n",
    "import time\n",
    "import json\n",
    "import pandas as pd\n",
    "from tqdm.notebook import tqdm\n",
    "import matplotlib.pyplot as plt\n",
    "import seaborn as sns"
   ]
  },
  {
   "cell_type": "code",
   "execution_count": null,
   "id": "4d22c916",
   "metadata": {},
   "outputs": [],
   "source": [
    "# ============================\n",
    "# 1️⃣ Carregar dataset inicial\n",
    "# ============================\n",
    "\n",
    "# Substitua o caminho do arquivo pelo local onde está seu JSON inicial\n",
    "with open('allcards.json', 'r', encoding='utf-8') as f:\n",
    "    basic_data = json.load(f)\n",
    "\n",
    "print(f\"Número de cartas no dataset inicial: {len(basic_data)}\")"
   ]
  },
  {
   "cell_type": "code",
   "execution_count": null,
   "id": "4042ba34",
   "metadata": {},
   "outputs": [],
   "source": [
    "# ============================\n",
    "# 2️⃣ Função para buscar dados completos na API\n",
    "# ============================\n",
    "\n",
    "def fetch_card_data(cardnumber, retries=3):\n",
    "    url = f\"https://digimoncard.io/api-public/search.php?card={cardnumber}\"\n",
    "    for attempt in range(retries):\n",
    "        try:\n",
    "            response = requests.get(url, timeout=10)\n",
    "            if response.status_code == 200:\n",
    "                data = response.json()\n",
    "                if data:\n",
    "                    return data[0]  # A API retorna uma lista com 1 elemento\n",
    "                else:\n",
    "                    print(f\"⚠️ Nenhum dado retornado para {cardnumber}\")\n",
    "                    return None\n",
    "            elif response.status_code == 429:\n",
    "                # Too Many Requests: esperar mais tempo\n",
    "                wait_time = 5 * (attempt + 1)\n",
    "                print(f\"🚦 Too Many Requests. Aguardando {wait_time} segundos...\")\n",
    "                time.sleep(wait_time)\n",
    "            else:\n",
    "                print(f\"❌ Erro {response.status_code} para {cardnumber}\")\n",
    "                return None\n",
    "        except Exception as e:\n",
    "            print(f\"❌ Erro na requisição para {cardnumber}: {e}\")\n",
    "            time.sleep(5)\n",
    "    return None"
   ]
  },
  {
   "cell_type": "code",
   "execution_count": null,
   "id": "e8a20d2c",
   "metadata": {},
   "outputs": [],
   "source": [
    "# ============================\n",
    "# 3️⃣ Coletar dados com controle de taxa\n",
    "# ============================\n",
    "\n",
    "full_data = []\n",
    "for card in tqdm(basic_data):\n",
    "    cardnumber = card.get(\"cardnumber\")\n",
    "    if not cardnumber:\n",
    "        continue\n",
    "    data = fetch_card_data(cardnumber)\n",
    "    if data:\n",
    "        full_data.append(data)\n",
    "    else:\n",
    "        print(f\"⚠️ Dados não encontrados para {cardnumber}\")\n",
    "    \n",
    "    # Sleep entre chamadas para evitar bloqueio (ajuste conforme necessário)\n",
    "    #time.sleep(1.0)"
   ]
  },
  {
   "cell_type": "code",
   "execution_count": null,
   "id": "03d0fd95",
   "metadata": {},
   "outputs": [],
   "source": [
    "# ============================\n",
    "# 4️⃣ Salvar resultados\n",
    "# ============================\n",
    "\n",
    "# Salvar em CSV (transformando em DataFrame)\n",
    "df = pd.json_normalize(full_data)\n",
    "df.to_csv('../data/digimon_cards_raw.csv', index=False)\n",
    "\n",
    "print(\"✅ Dados salvos em 'digimon_cards_raw.csv'\")\n"
   ]
  }
 ],
 "metadata": {
  "language_info": {
   "name": "python"
  }
 },
 "nbformat": 4,
 "nbformat_minor": 5
}
