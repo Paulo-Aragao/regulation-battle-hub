{
 "cells": [
  {
   "cell_type": "code",
   "execution_count": 15,
   "id": "25e47247",
   "metadata": {},
   "outputs": [],
   "source": [
    "# Digimon Card Game: Enriquecimento de Dados com API\n",
    "# ================================================\n",
    "\n",
    "import requests\n",
    "import time\n",
    "import json\n",
    "import pandas as pd\n",
    "from tqdm.notebook import tqdm\n",
    "import matplotlib.pyplot as plt\n",
    "import seaborn as sns\n",
    "import ast"
   ]
  },
  {
   "cell_type": "code",
   "execution_count": null,
   "id": "223489a1",
   "metadata": {},
   "outputs": [
    {
     "name": "stdout",
     "output_type": "stream",
     "text": [
      "Informações Gerais do DataFrame:\n",
      "<class 'pandas.core.frame.DataFrame'>\n",
      "RangeIndex: 3605 entries, 0 to 3604\n",
      "Data columns (total 28 columns):\n",
      " #   Column           Non-Null Count  Dtype  \n",
      "---  ------           --------------  -----  \n",
      " 0   name             3605 non-null   object \n",
      " 1   type             3605 non-null   object \n",
      " 2   id               3605 non-null   object \n",
      " 3   level            2890 non-null   float64\n",
      " 4   play_cost        3396 non-null   float64\n",
      " 5   evolution_cost   2623 non-null   float64\n",
      " 6   evolution_color  1209 non-null   object \n",
      " 7   evolution_level  921 non-null    float64\n",
      " 8   xros_req         908 non-null    object \n",
      " 9   color            3605 non-null   object \n",
      " 10  color2           667 non-null    object \n",
      " 11  digi_type        3076 non-null   object \n",
      " 12  digi_type2       893 non-null    object \n",
      " 13  form             1036 non-null   object \n",
      " 14  dp               2705 non-null   float64\n",
      " 15  attribute        2693 non-null   object \n",
      " 16  rarity           3605 non-null   object \n",
      " 17  stage            1037 non-null   object \n",
      " 18  artist           0 non-null      float64\n",
      " 19  main_effect      3418 non-null   object \n",
      " 20  source_effect    1882 non-null   object \n",
      " 21  alt_effect       909 non-null    object \n",
      " 22  series           3605 non-null   object \n",
      " 23  pretty_url       3605 non-null   object \n",
      " 24  date_added       3605 non-null   object \n",
      " 25  tcgplayer_name   3544 non-null   object \n",
      " 26  tcgplayer_id     3544 non-null   float64\n",
      " 27  set_name         3605 non-null   object \n",
      "dtypes: float64(7), object(21)\n",
      "memory usage: 788.7+ KB\n"
     ]
    }
   ],
   "source": [
    "sns.set_style('whitegrid')\n",
    "plt.rcParams['figure.figsize'] = (6, 3)\n",
    "plt.rcParams['font.size'] = 8\n",
    "# Carregar os dados (ajuste o caminho se necessário)\n",
    "full_data_df = pd.read_csv(\"../data/digimon_cards_raw.csv\")\n",
    "\n",
    "# Exibir informações gerais sobre o DataFrame\n",
    "print(\"Informações Gerais do DataFrame:\")\n",
    "full_data_df.info()"
   ]
  },
  {
   "cell_type": "code",
   "execution_count": 17,
   "id": "689cb728",
   "metadata": {},
   "outputs": [
    {
     "name": "stdout",
     "output_type": "stream",
     "text": [
      "Número de cartas com nome ou código nulo: 0\n"
     ]
    },
    {
     "data": {
      "text/html": [
       "<div>\n",
       "<style scoped>\n",
       "    .dataframe tbody tr th:only-of-type {\n",
       "        vertical-align: middle;\n",
       "    }\n",
       "\n",
       "    .dataframe tbody tr th {\n",
       "        vertical-align: top;\n",
       "    }\n",
       "\n",
       "    .dataframe thead th {\n",
       "        text-align: right;\n",
       "    }\n",
       "</style>\n",
       "<table border=\"1\" class=\"dataframe\">\n",
       "  <thead>\n",
       "    <tr style=\"text-align: right;\">\n",
       "      <th></th>\n",
       "      <th>name</th>\n",
       "      <th>type</th>\n",
       "      <th>id</th>\n",
       "      <th>level</th>\n",
       "      <th>play_cost</th>\n",
       "      <th>evolution_cost</th>\n",
       "      <th>evolution_color</th>\n",
       "      <th>evolution_level</th>\n",
       "      <th>xros_req</th>\n",
       "      <th>color</th>\n",
       "      <th>...</th>\n",
       "      <th>artist</th>\n",
       "      <th>main_effect</th>\n",
       "      <th>source_effect</th>\n",
       "      <th>alt_effect</th>\n",
       "      <th>series</th>\n",
       "      <th>pretty_url</th>\n",
       "      <th>date_added</th>\n",
       "      <th>tcgplayer_name</th>\n",
       "      <th>tcgplayer_id</th>\n",
       "      <th>set_name</th>\n",
       "    </tr>\n",
       "  </thead>\n",
       "  <tbody>\n",
       "  </tbody>\n",
       "</table>\n",
       "<p>0 rows × 28 columns</p>\n",
       "</div>"
      ],
      "text/plain": [
       "Empty DataFrame\n",
       "Columns: [name, type, id, level, play_cost, evolution_cost, evolution_color, evolution_level, xros_req, color, color2, digi_type, digi_type2, form, dp, attribute, rarity, stage, artist, main_effect, source_effect, alt_effect, series, pretty_url, date_added, tcgplayer_name, tcgplayer_id, set_name]\n",
       "Index: []\n",
       "\n",
       "[0 rows x 28 columns]"
      ]
     },
     "metadata": {},
     "output_type": "display_data"
    }
   ],
   "source": [
    "# Filtrar linhas onde name ou id estão nulos\n",
    "missing_data = full_data_df[full_data_df['name'].isnull() | full_data_df['id'].isnull()]\n",
    "\n",
    "# Exibir o resultado\n",
    "print(f\"Número de cartas com nome ou código nulo: {len(missing_data)}\")\n",
    "display(missing_data)"
   ]
  },
  {
   "cell_type": "code",
   "execution_count": 18,
   "id": "a61d6c46",
   "metadata": {},
   "outputs": [
    {
     "name": "stdout",
     "output_type": "stream",
     "text": [
      "Distribuição de Tipos de Carta:\n",
      "type\n",
      "Digimon     2705\n",
      "Option       441\n",
      "Tamer        250\n",
      "Digi-Egg     209\n",
      "Name: count, dtype: int64\n"
     ]
    },
    {
     "name": "stderr",
     "output_type": "stream",
     "text": [
      "C:\\Users\\Paulo Aragao\\AppData\\Local\\Temp\\ipykernel_13928\\2077606883.py:6: FutureWarning: \n",
      "\n",
      "Passing `palette` without assigning `hue` is deprecated and will be removed in v0.14.0. Assign the `y` variable to `hue` and set `legend=False` for the same effect.\n",
      "\n",
      "  sns.countplot(y=full_data_df['type'], order=full_data_df['type'].value_counts().index, palette='viridis')\n"
     ]
    },
    {
     "data": {
      "image/png": "[encoded data removed]",
      "text/plain": [
       "<Figure size 400x250 with 1 Axes>"
      ]
     },
     "metadata": {},
     "output_type": "display_data"
    }
   ],
   "source": [
    "# Análise da coluna 'type'\n",
    "print(\"Distribuição de Tipos de Carta:\")\n",
    "print(full_data_df['type'].value_counts())\n",
    "\n",
    "plt.figure(figsize=(4, 2.5))\n",
    "sns.countplot(y=full_data_df['type'], order=full_data_df['type'].value_counts().index, palette='viridis')\n",
    "plt.title('Contagem por Tipo de Carta')\n",
    "plt.xlabel('Contagem')\n",
    "plt.ylabel('Tipo')\n",
    "plt.show()"
   ]
  },
  {
   "cell_type": "code",
   "execution_count": 19,
   "id": "c523e60f",
   "metadata": {},
   "outputs": [
    {
     "name": "stdout",
     "output_type": "stream",
     "text": [
      "Distribuição de Raridades:\n",
      "rarity\n",
      "C          1267\n",
      "U           902\n",
      "R           761\n",
      "SR          387\n",
      "P           224\n",
      "SEC          63\n",
      "UNKNOWN       1\n",
      "Name: count, dtype: int64\n"
     ]
    },
    {
     "name": "stderr",
     "output_type": "stream",
     "text": [
      "C:\\Users\\Paulo Aragao\\AppData\\Local\\Temp\\ipykernel_13928\\2609064746.py:6: FutureWarning: \n",
      "\n",
      "Passing `palette` without assigning `hue` is deprecated and will be removed in v0.14.0. Assign the `y` variable to `hue` and set `legend=False` for the same effect.\n",
      "\n",
      "  sns.countplot(y=full_data_df['rarity'], order=full_data_df['rarity'].value_counts().index, palette='plasma')\n"
     ]
    },
    {
     "data": {
      "image/png": "[encoded data removed]",
      "text/plain": [
       "<Figure size 600x300 with 1 Axes>"
      ]
     },
     "metadata": {},
     "output_type": "display_data"
    }
   ],
   "source": [
    "# Análise da coluna 'rarity'\n",
    "print(\"Distribuição de Raridades:\")\n",
    "print(full_data_df['rarity'].value_counts())\n",
    "\n",
    "plt.figure(figsize=(6, 3))\n",
    "sns.countplot(y=full_data_df['rarity'], order=full_data_df['rarity'].value_counts().index, palette='plasma')\n",
    "plt.title('Contagem por Raridade')\n",
    "plt.xlabel('Contagem')\n",
    "plt.ylabel('Raridade')\n",
    "plt.show()"
   ]
  },
  {
   "cell_type": "code",
   "execution_count": 20,
   "id": "2417651a",
   "metadata": {},
   "outputs": [
    {
     "name": "stdout",
     "output_type": "stream",
     "text": [
      "\n",
      "Distribuição de Raridades Após a Limpeza:\n",
      "rarity\n",
      "C          1267\n",
      "U           902\n",
      "R           761\n",
      "SR          387\n",
      "P           224\n",
      "SEC          63\n",
      "UNKNOWN       1\n",
      "Name: count, dtype: int64\n"
     ]
    },
    {
     "name": "stderr",
     "output_type": "stream",
     "text": [
      "C:\\Users\\Paulo Aragao\\AppData\\Local\\Temp\\ipykernel_13928\\1360675509.py:9: FutureWarning: \n",
      "\n",
      "Passing `palette` without assigning `hue` is deprecated and will be removed in v0.14.0. Assign the `y` variable to `hue` and set `legend=False` for the same effect.\n",
      "\n",
      "  sns.countplot(y=full_data_df['rarity'], order=full_data_df['rarity'].value_counts().index, palette='plasma')\n"
     ]
    },
    {
     "data": {
      "image/png": "[encoded data removed]",
      "text/plain": [
       "<Figure size 600x300 with 1 Axes>"
      ]
     },
     "metadata": {},
     "output_type": "display_data"
    }
   ],
   "source": [
    "# Padronizando a coluna 'rarity' para letras maiúsculas\n",
    "full_data_df['rarity'] = full_data_df['rarity'].str.upper()\n",
    "\n",
    "# Verificando o resultado da limpeza\n",
    "print(\"\\nDistribuição de Raridades Após a Limpeza:\")\n",
    "print(full_data_df['rarity'].value_counts())\n",
    "\n",
    "plt.figure(figsize=(6, 3))\n",
    "sns.countplot(y=full_data_df['rarity'], order=full_data_df['rarity'].value_counts().index, palette='plasma')\n",
    "plt.title('Contagem por Raridade (Após Limpeza)')\n",
    "plt.xlabel('Contagem')\n",
    "plt.ylabel('Raridade')\n",
    "plt.show()"
   ]
  },
  {
   "cell_type": "code",
   "execution_count": 21,
   "id": "86379a62",
   "metadata": {},
   "outputs": [
    {
     "name": "stdout",
     "output_type": "stream",
     "text": [
      "Distribuição de Cores:\n",
      "color\n",
      "Purple    609\n",
      "Red       595\n",
      "Black     593\n",
      "Blue      571\n",
      "Green     558\n",
      "Yellow    554\n",
      "White     125\n",
      "Name: count, dtype: int64\n"
     ]
    },
    {
     "name": "stderr",
     "output_type": "stream",
     "text": [
      "C:\\Users\\Paulo Aragao\\AppData\\Local\\Temp\\ipykernel_13928\\3394996049.py:22: FutureWarning: \n",
      "\n",
      "Passing `palette` without assigning `hue` is deprecated and will be removed in v0.14.0. Assign the `y` variable to `hue` and set `legend=False` for the same effect.\n",
      "\n",
      "  sns.countplot(\n"
     ]
    },
    {
     "data": {
      "image/png": "[encoded data removed]",
      "text/plain": [
       "<Figure size 600x300 with 1 Axes>"
      ]
     },
     "metadata": {},
     "output_type": "display_data"
    }
   ],
   "source": [
    "# 1. Criar o dicionário que mapeia o nome da cor para uma cor real\n",
    "# Usamos 'gold' para Yellow e 'lightgray' para White para melhor visualização.\n",
    "color_map = {\n",
    "    'Purple': '#8A2BE2', # BlueViolet\n",
    "    'Red': '#DC143C',    # Crimson\n",
    "    'Black': '#333333',    # Um cinza bem escuro, quase preto\n",
    "    'Blue': '#4169E1',   # RoyalBlue\n",
    "    'Green': '#228B22',   # ForestGreen\n",
    "    'Yellow': '#FFD700',  # Gold\n",
    "    'White': '#D3D3D3'   # LightGray (para ser visível no fundo branco)\n",
    "}\n",
    "\n",
    "# 2. Obter a ordem correta das barras (da mais frequente para a menos)\n",
    "# Isso garante que o Seaborn desenhe na ordem que queremos.\n",
    "bar_order = full_data_df['color'].value_counts().index\n",
    "\n",
    "# 3. Gerar o gráfico usando o nosso mapa de cores personalizado na paleta\n",
    "print(\"Distribuição de Cores:\")\n",
    "print(full_data_df['color'].value_counts())\n",
    "\n",
    "plt.figure(figsize=(6, 3))\n",
    "sns.countplot(\n",
    "    y=full_data_df['color'], \n",
    "    order=bar_order,\n",
    "    palette=color_map  # Aqui está a mágica! Passamos nosso mapa de cores.\n",
    ")\n",
    "\n",
    "plt.title('Contagem por Cor Principal', fontsize=10)\n",
    "plt.xlabel('Contagem', fontsize=8)\n",
    "plt.ylabel('Cor', fontsize=8)\n",
    "plt.xticks(fontsize=8)\n",
    "plt.yticks(fontsize=8)\n",
    "plt.show()"
   ]
  },
  {
   "cell_type": "code",
   "execution_count": 22,
   "id": "2c168a2e",
   "metadata": {},
   "outputs": [
    {
     "name": "stdout",
     "output_type": "stream",
     "text": [
      "Resumo Estatístico das Colunas Numéricas:\n",
      "         play_cost  evolution_cost            dp        level\n",
      "count  3396.000000     2623.000000   2705.000000  2890.000000\n",
      "mean      6.054181        2.411361   6519.778189     4.356055\n",
      "std       3.438499        1.546032   3903.002555     1.295226\n",
      "min       0.000000        0.000000      0.000000     2.000000\n",
      "25%       3.000000        2.000000   4000.000000     3.000000\n",
      "50%       5.000000        3.000000   6000.000000     4.000000\n",
      "75%       8.000000        3.000000  10000.000000     5.000000\n",
      "max      20.000000        8.000000  17000.000000     7.000000\n"
     ]
    },
    {
     "data": {
      "image/png": "[encoded data removed]",
      "text/plain": [
       "<Figure size 600x300 with 1 Axes>"
      ]
     },
     "metadata": {},
     "output_type": "display_data"
    },
    {
     "data": {
      "image/png": "[encoded data removed]",
      "text/plain": [
       "<Figure size 600x300 with 1 Axes>"
      ]
     },
     "metadata": {},
     "output_type": "display_data"
    }
   ],
   "source": [
    "# Resumo estatístico das colunas numéricas\n",
    "print(\"Resumo Estatístico das Colunas Numéricas:\")\n",
    "print(full_data_df[['play_cost', 'evolution_cost', 'dp', 'level']].describe())\n",
    "\n",
    "# Histograma do Custo para Jogar (Play Cost)\n",
    "plt.figure(figsize=(6, 3))\n",
    "sns.histplot(full_data_df['play_cost'].dropna(), bins=20, kde=True)\n",
    "plt.title('Distribuição do Custo para Jogar (Play Cost)')\n",
    "plt.xlabel('Custo')\n",
    "plt.ylabel('Frequência')\n",
    "plt.show()\n",
    "\n",
    "# Histograma do DP (Digimon Power)\n",
    "plt.figure(figsize=(6, 3))\n",
    "sns.histplot(full_data_df['dp'].dropna(), bins=30, kde=True, color='red')\n",
    "plt.title('Distribuição de DP')\n",
    "plt.xlabel('DP')\n",
    "plt.ylabel('Frequência')\n",
    "plt.show()"
   ]
  },
  {
   "cell_type": "code",
   "execution_count": 23,
   "id": "10148d03",
   "metadata": {},
   "outputs": [],
   "source": [
    "# Função para converter a string em lista de forma segura\n",
    "def converter_string_para_lista(valor):\n",
    "    try:\n",
    "        # Verifica se o valor é uma string antes de tentar a conversão\n",
    "        if isinstance(valor, str):\n",
    "            return ast.literal_eval(valor)\n",
    "    except (ValueError, SyntaxError):\n",
    "        # Se a string não for uma lista válida (ex: \"NaN\"), retorna uma lista vazia\n",
    "        pass\n",
    "    # Retorna uma lista vazia para valores nulos (NaN) ou erros de conversão\n",
    "    return []\n",
    "\n",
    "# Aplique a função na coluna 'set_name'\n",
    "full_data_df['set_name'] = full_data_df['set_name'].apply(converter_string_para_lista)\n",
    "\n",
    "# --- APLIQUE OUTRAS LIMPEZAS QUE FIZEMOS, COMO NA RARIDADE ---\n",
    "full_data_df['rarity'] = full_data_df['rarity'].str.upper()\n",
    "\n"
   ]
  },
  {
   "cell_type": "code",
   "execution_count": 25,
   "id": "032b4f82",
   "metadata": {},
   "outputs": [
    {
     "name": "stdout",
     "output_type": "stream",
     "text": [
      "Número de cartas com raridade 'C' ou 'U': 2169\n"
     ]
    },
    {
     "data": {
      "text/html": [
       "<div>\n",
       "<style scoped>\n",
       "    .dataframe tbody tr th:only-of-type {\n",
       "        vertical-align: middle;\n",
       "    }\n",
       "\n",
       "    .dataframe tbody tr th {\n",
       "        vertical-align: top;\n",
       "    }\n",
       "\n",
       "    .dataframe thead th {\n",
       "        text-align: right;\n",
       "    }\n",
       "</style>\n",
       "<table border=\"1\" class=\"dataframe\">\n",
       "  <thead>\n",
       "    <tr style=\"text-align: right;\">\n",
       "      <th></th>\n",
       "      <th>name</th>\n",
       "      <th>type</th>\n",
       "      <th>id</th>\n",
       "      <th>level</th>\n",
       "      <th>play_cost</th>\n",
       "      <th>evolution_cost</th>\n",
       "      <th>evolution_color</th>\n",
       "      <th>evolution_level</th>\n",
       "      <th>xros_req</th>\n",
       "      <th>color</th>\n",
       "      <th>...</th>\n",
       "      <th>artist</th>\n",
       "      <th>main_effect</th>\n",
       "      <th>source_effect</th>\n",
       "      <th>alt_effect</th>\n",
       "      <th>series</th>\n",
       "      <th>pretty_url</th>\n",
       "      <th>date_added</th>\n",
       "      <th>tcgplayer_name</th>\n",
       "      <th>tcgplayer_id</th>\n",
       "      <th>set_name</th>\n",
       "    </tr>\n",
       "  </thead>\n",
       "  <tbody>\n",
       "    <tr>\n",
       "      <th>0</th>\n",
       "      <td>A Blazing Storm of Metal!</td>\n",
       "      <td>Option</td>\n",
       "      <td>BT5-103</td>\n",
       "      <td>NaN</td>\n",
       "      <td>1.0</td>\n",
       "      <td>NaN</td>\n",
       "      <td>NaN</td>\n",
       "      <td>NaN</td>\n",
       "      <td>NaN</td>\n",
       "      <td>Black</td>\n",
       "      <td>...</td>\n",
       "      <td>NaN</td>\n",
       "      <td>[Main] Until the end of your opponent's next t...</td>\n",
       "      <td>Security Effect [Security] Your opponent's Dig...</td>\n",
       "      <td>NaN</td>\n",
       "      <td>Digimon Card Game</td>\n",
       "      <td>a-blazing-storm-of-metal-bt5-103</td>\n",
       "      <td>2024-05-27 15:14:30</td>\n",
       "      <td>A Blazing Storm of Metal!</td>\n",
       "      <td>245181.0</td>\n",
       "      <td>[BT-05: Booster Battle Of Omni]</td>\n",
       "    </tr>\n",
       "    <tr>\n",
       "      <th>1</th>\n",
       "      <td>A Delicate Plan</td>\n",
       "      <td>Option</td>\n",
       "      <td>BT3-097</td>\n",
       "      <td>NaN</td>\n",
       "      <td>1.0</td>\n",
       "      <td>NaN</td>\n",
       "      <td>NaN</td>\n",
       "      <td>NaN</td>\n",
       "      <td>NaN</td>\n",
       "      <td>Red</td>\n",
       "      <td>...</td>\n",
       "      <td>NaN</td>\n",
       "      <td>[Main] 1 of your Digimon gains \"[Security] eff...</td>\n",
       "      <td>Security Effect [Security] Add this card to th...</td>\n",
       "      <td>NaN</td>\n",
       "      <td>Digimon Card Game</td>\n",
       "      <td>a-delicate-plan-bt3-097</td>\n",
       "      <td>2024-05-27 15:14:30</td>\n",
       "      <td>A Delicate Plan</td>\n",
       "      <td>231742.0</td>\n",
       "      <td>[BT-03: Booster Union Impact, BT01-03: Release...</td>\n",
       "    </tr>\n",
       "    <tr>\n",
       "      <th>5</th>\n",
       "      <td>Absolute Blast</td>\n",
       "      <td>Option</td>\n",
       "      <td>BT5-097</td>\n",
       "      <td>NaN</td>\n",
       "      <td>6.0</td>\n",
       "      <td>NaN</td>\n",
       "      <td>NaN</td>\n",
       "      <td>NaN</td>\n",
       "      <td>NaN</td>\n",
       "      <td>Blue</td>\n",
       "      <td>...</td>\n",
       "      <td>NaN</td>\n",
       "      <td>[Main] Trash the bottom digivolution card of 1...</td>\n",
       "      <td>Security Effect [Security] Activate this card'...</td>\n",
       "      <td>NaN</td>\n",
       "      <td>Digimon Card Game</td>\n",
       "      <td>absolute-blast-bt5-097</td>\n",
       "      <td>2024-05-27 15:14:30</td>\n",
       "      <td>Absolute Blast</td>\n",
       "      <td>245150.0</td>\n",
       "      <td>[BT-05: Booster Battle Of Omni, Summer 2022 Da...</td>\n",
       "    </tr>\n",
       "    <tr>\n",
       "      <th>7</th>\n",
       "      <td>Achillesmon</td>\n",
       "      <td>Digimon</td>\n",
       "      <td>BT16-047</td>\n",
       "      <td>6.0</td>\n",
       "      <td>11.0</td>\n",
       "      <td>3.0</td>\n",
       "      <td>NaN</td>\n",
       "      <td>NaN</td>\n",
       "      <td>[Digivolve] Lv.5 w/[Pulsemon] in text: Cost 3</td>\n",
       "      <td>Green</td>\n",
       "      <td>...</td>\n",
       "      <td>NaN</td>\n",
       "      <td>[When Digivolving] Suspend 1 of your opponent'...</td>\n",
       "      <td>NaN</td>\n",
       "      <td>[Digivolve] Lv.5 w/[Pulsemon] in text: Cost 3</td>\n",
       "      <td>Digimon Card Game</td>\n",
       "      <td>achillesmon-bt16-047</td>\n",
       "      <td>2024-05-27 15:14:30</td>\n",
       "      <td>Achillesmon</td>\n",
       "      <td>548430.0</td>\n",
       "      <td>[BT-16: Booster Beginning Observer]</td>\n",
       "    </tr>\n",
       "    <tr>\n",
       "      <th>8</th>\n",
       "      <td>Acid Injection</td>\n",
       "      <td>Option</td>\n",
       "      <td>BT6-099</td>\n",
       "      <td>NaN</td>\n",
       "      <td>1.0</td>\n",
       "      <td>NaN</td>\n",
       "      <td>NaN</td>\n",
       "      <td>NaN</td>\n",
       "      <td>NaN</td>\n",
       "      <td>Yellow</td>\n",
       "      <td>...</td>\n",
       "      <td>NaN</td>\n",
       "      <td>[Main] Trash the top card of your security sta...</td>\n",
       "      <td>Security Effect [Security] Add this card to th...</td>\n",
       "      <td>NaN</td>\n",
       "      <td>Digimon Card Game</td>\n",
       "      <td>acid-injection-bt6-099</td>\n",
       "      <td>2024-05-27 15:14:30</td>\n",
       "      <td>Acid Injection</td>\n",
       "      <td>249710.0</td>\n",
       "      <td>[BT-06: Booster Double Diamond]</td>\n",
       "    </tr>\n",
       "  </tbody>\n",
       "</table>\n",
       "<p>5 rows × 28 columns</p>\n",
       "</div>"
      ],
      "text/plain": [
       "                        name     type        id  level  play_cost  \\\n",
       "0  A Blazing Storm of Metal!   Option   BT5-103    NaN        1.0   \n",
       "1            A Delicate Plan   Option   BT3-097    NaN        1.0   \n",
       "5             Absolute Blast   Option   BT5-097    NaN        6.0   \n",
       "7                Achillesmon  Digimon  BT16-047    6.0       11.0   \n",
       "8             Acid Injection   Option   BT6-099    NaN        1.0   \n",
       "\n",
       "   evolution_cost evolution_color  evolution_level  \\\n",
       "0             NaN             NaN              NaN   \n",
       "1             NaN             NaN              NaN   \n",
       "5             NaN             NaN              NaN   \n",
       "7             3.0             NaN              NaN   \n",
       "8             NaN             NaN              NaN   \n",
       "\n",
       "                                        xros_req   color  ... artist  \\\n",
       "0                                            NaN   Black  ...    NaN   \n",
       "1                                            NaN     Red  ...    NaN   \n",
       "5                                            NaN    Blue  ...    NaN   \n",
       "7  [Digivolve] Lv.5 w/[Pulsemon] in text: Cost 3   Green  ...    NaN   \n",
       "8                                            NaN  Yellow  ...    NaN   \n",
       "\n",
       "                                         main_effect  \\\n",
       "0  [Main] Until the end of your opponent's next t...   \n",
       "1  [Main] 1 of your Digimon gains \"[Security] eff...   \n",
       "5  [Main] Trash the bottom digivolution card of 1...   \n",
       "7  [When Digivolving] Suspend 1 of your opponent'...   \n",
       "8  [Main] Trash the top card of your security sta...   \n",
       "\n",
       "                                       source_effect  \\\n",
       "0  Security Effect [Security] Your opponent's Dig...   \n",
       "1  Security Effect [Security] Add this card to th...   \n",
       "5  Security Effect [Security] Activate this card'...   \n",
       "7                                                NaN   \n",
       "8  Security Effect [Security] Add this card to th...   \n",
       "\n",
       "                                      alt_effect             series  \\\n",
       "0                                            NaN  Digimon Card Game   \n",
       "1                                            NaN  Digimon Card Game   \n",
       "5                                            NaN  Digimon Card Game   \n",
       "7  [Digivolve] Lv.5 w/[Pulsemon] in text: Cost 3  Digimon Card Game   \n",
       "8                                            NaN  Digimon Card Game   \n",
       "\n",
       "                         pretty_url           date_added  \\\n",
       "0  a-blazing-storm-of-metal-bt5-103  2024-05-27 15:14:30   \n",
       "1           a-delicate-plan-bt3-097  2024-05-27 15:14:30   \n",
       "5            absolute-blast-bt5-097  2024-05-27 15:14:30   \n",
       "7              achillesmon-bt16-047  2024-05-27 15:14:30   \n",
       "8            acid-injection-bt6-099  2024-05-27 15:14:30   \n",
       "\n",
       "              tcgplayer_name  tcgplayer_id  \\\n",
       "0  A Blazing Storm of Metal!      245181.0   \n",
       "1            A Delicate Plan      231742.0   \n",
       "5             Absolute Blast      245150.0   \n",
       "7                Achillesmon      548430.0   \n",
       "8             Acid Injection      249710.0   \n",
       "\n",
       "                                            set_name  \n",
       "0                    [BT-05: Booster Battle Of Omni]  \n",
       "1  [BT-03: Booster Union Impact, BT01-03: Release...  \n",
       "5  [BT-05: Booster Battle Of Omni, Summer 2022 Da...  \n",
       "7                [BT-16: Booster Beginning Observer]  \n",
       "8                    [BT-06: Booster Double Diamond]  \n",
       "\n",
       "[5 rows x 28 columns]"
      ]
     },
     "metadata": {},
     "output_type": "display_data"
    }
   ],
   "source": [
    "# Filtrar apenas as cartas cuja raridade é 'C' ou 'U'\n",
    "filtered_df = full_data_df[full_data_df['rarity'].isin(['C', 'U'])]\n",
    "\n",
    "# Exibir informações gerais sobre o DataFrame filtrado\n",
    "print(f\"Número de cartas com raridade 'C' ou 'U': {len(filtered_df)}\")\n",
    "display(filtered_df.head())"
   ]
  },
  {
   "cell_type": "code",
   "execution_count": 27,
   "id": "1504e73f",
   "metadata": {},
   "outputs": [],
   "source": [
    "# Exemplo de como salvar o DataFrame limpo em um novo CSV\n",
    "filtered_df.to_csv('../data/digimon_cards_clean.csv', index=False)\n",
    "\n",
    "# E para gerar o JSON que a sua aplicação web vai usar:\n",
    "filtered_df.to_json('../data/digimon_cards_full.json', orient='records', indent=2)"
   ]
  }
 ],
 "metadata": {
  "kernelspec": {
   "display_name": "Python 3",
   "language": "python",
   "name": "python3"
  },
  "language_info": {
   "codemirror_mode": {
    "name": "ipython",
    "version": 3
   },
   "file_extension": ".py",
   "mimetype": "text/x-python",
   "name": "python",
   "nbconvert_exporter": "python",
   "pygments_lexer": "ipython3",
   "version": "3.13.3"
  }
 },
 "nbformat": 4,
 "nbformat_minor": 5
}
